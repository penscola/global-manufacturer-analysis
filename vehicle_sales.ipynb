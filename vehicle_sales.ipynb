{
 "cells": [
  {
   "cell_type": "code",
   "execution_count": 2,
   "metadata": {},
   "outputs": [],
   "source": [
    "# Import the required library\n",
    "import numpy as np\n",
    "import pandas as pd"
   ]
  },
  {
   "cell_type": "code",
   "execution_count": 3,
   "metadata": {},
   "outputs": [
    {
     "name": "stderr",
     "output_type": "stream",
     "text": [
      "/tmp/ipykernel_171016/1957572002.py:2: DeprecationWarning: loadtxt(): Parsing an integer via a float is deprecated.  To avoid this warning, you can:\n",
      "    * make sure the original data is stored as integers.\n",
      "    * use the `converters=` keyword argument.  If you only use\n",
      "      NumPy 1.23 or later, `converters=float` will normally work.\n",
      "    * Use `np.loadtxt(...).astype(np.int64)` parsing the file as\n",
      "      floating point and then convert it.  (On all NumPy versions.)\n",
      "  (Deprecated NumPy 1.23)\n",
      "  sales_array = np.loadtxt(fname='sales_data.csv', delimiter=',', dtype=int)\n"
     ]
    },
    {
     "data": {
      "text/plain": [
       "array([ 433, 7683, 4370, 3160, 5324, 2646, 8879, 3071, 1248,  884])"
      ]
     },
     "execution_count": 3,
     "metadata": {},
     "output_type": "execute_result"
    }
   ],
   "source": [
    "# Working with numpy array\n",
    "sales_array = np.loadtxt(fname='sales_data.csv', delimiter=',', dtype=int)\n",
    "\n",
    "# Preview the sales array\n",
    "sales_array[:10]"
   ]
  },
  {
   "attachments": {},
   "cell_type": "markdown",
   "metadata": {},
   "source": [
    "Lets initially Exploratory Data Analysis on the dataset. This will provide a description on the dataset we are working with.\n",
    "\n",
    "Questions\n",
    "- How many sales records does the data set contain?\n",
    "- What is the total number of vehicle sales?\n",
    "- Do we have any records with ZERO sales?\n",
    "- Determine the mean and standard deviation if the data?\n",
    "- Select all the records with above average sales and determine how many records where sales were above average.\n",
    "- What are the maximum and minimum records in the sales data.\n",
    "- Determine the cumulative sum across all the sales records."
   ]
  },
  {
   "cell_type": "code",
   "execution_count": 4,
   "metadata": {},
   "outputs": [
    {
     "data": {
      "text/plain": [
       "(100000,)"
      ]
     },
     "execution_count": 4,
     "metadata": {},
     "output_type": "execute_result"
    }
   ],
   "source": [
    "# How many records does the data contain\n",
    "np.shape(sales_array)"
   ]
  },
  {
   "cell_type": "code",
   "execution_count": 7,
   "metadata": {},
   "outputs": [
    {
     "name": "stdout",
     "output_type": "stream",
     "text": [
      "Total sales is 507,848,676\n"
     ]
    }
   ],
   "source": [
    "# Total number of vehicles Sales\n",
    "total_sales = np.sum(sales_array)\n",
    "\n",
    "print(f'Total sales is {total_sales:,}')"
   ]
  },
  {
   "cell_type": "code",
   "execution_count": 8,
   "metadata": {},
   "outputs": [
    {
     "data": {
      "text/plain": [
       "False"
      ]
     },
     "execution_count": 8,
     "metadata": {},
     "output_type": "execute_result"
    }
   ],
   "source": [
    "# Does the data contain a record with zero sales\n",
    "np.any(sales_array == 0)"
   ]
  },
  {
   "cell_type": "code",
   "execution_count": 16,
   "metadata": {},
   "outputs": [
    {
     "name": "stdout",
     "output_type": "stream",
     "text": [
      "The mean sales is 5,078.49 with a standard deviation of 2,848.32\n"
     ]
    }
   ],
   "source": [
    "# Mean and standard deviation of the data set\n",
    "mean_sales = np.mean(sales_array)\n",
    "\n",
    "std_sales = np.std(sales_array)\n",
    "\n",
    "print(f'The mean sales is {mean_sales:,.2f} with a standard deviation of {std_sales:,.2f}')\n",
    "\n"
   ]
  },
  {
   "cell_type": "code",
   "execution_count": 19,
   "metadata": {},
   "outputs": [
    {
     "data": {
      "text/plain": [
       "50010"
      ]
     },
     "execution_count": 19,
     "metadata": {},
     "output_type": "execute_result"
    }
   ],
   "source": [
    "# Records above mean sales and the number\n",
    "np.sum([sales_array > mean_sales])\n"
   ]
  },
  {
   "cell_type": "code",
   "execution_count": 22,
   "metadata": {},
   "outputs": [
    {
     "name": "stdout",
     "output_type": "stream",
     "text": [
      "The maximum sales is 9999 while the minimum sales is 150\n"
     ]
    }
   ],
   "source": [
    "# Maximum and minimum records of sales\n",
    "max_sales = np.max(sales_array)\n",
    "min_sales = np.min(sales_array)\n",
    "\n",
    "print(f'The maximum sales is {max_sales} while the minimum sales is {min_sales}')"
   ]
  },
  {
   "cell_type": "code",
   "execution_count": 25,
   "metadata": {},
   "outputs": [
    {
     "data": {
      "text/plain": [
       "array([      433,      8116,     12486, ..., 507842407, 507846080,\n",
       "       507848676])"
      ]
     },
     "execution_count": 25,
     "metadata": {},
     "output_type": "execute_result"
    }
   ],
   "source": [
    "# Cumulative sum across all the vehicles\n",
    "np.cumsum(sales_array)"
   ]
  },
  {
   "cell_type": "code",
   "execution_count": null,
   "metadata": {},
   "outputs": [],
   "source": []
  }
 ],
 "metadata": {
  "kernelspec": {
   "display_name": "Python 3",
   "language": "python",
   "name": "python3"
  },
  "language_info": {
   "codemirror_mode": {
    "name": "ipython",
    "version": 3
   },
   "file_extension": ".py",
   "mimetype": "text/x-python",
   "name": "python",
   "nbconvert_exporter": "python",
   "pygments_lexer": "ipython3",
   "version": "3.10.6"
  },
  "vscode": {
   "interpreter": {
    "hash": "916dbcbb3f70747c44a77c7bcd40155683ae19c65e1c03b4aa3499c5328201f1"
   }
  }
 },
 "nbformat": 4,
 "nbformat_minor": 2
}
